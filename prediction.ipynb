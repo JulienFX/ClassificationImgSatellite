{
 "cells": [
  {
   "cell_type": "code",
   "execution_count": 8,
   "id": "72a5740a",
   "metadata": {},
   "outputs": [],
   "source": [
    "import tensorflow as tf\n",
    "import matplotlib.pyplot as plt\n",
    "import cv2\n",
    "import os\n",
    "import numpy as np\n",
    "from tensorflow.keras.preprocessing.image import ImageDataGenerator\n",
    "from tensorflow.keras.preprocessing import image"
   ]
  },
  {
   "cell_type": "code",
   "execution_count": 9,
   "id": "bf8a87d7",
   "metadata": {},
   "outputs": [
    {
     "name": "stdout",
     "output_type": "stream",
     "text": [
      "C:\\Users\\jujus\\OneDrive\\Documents\\Python Scripts\\video\n"
     ]
    }
   ],
   "source": [
    "print(os.getcwd())\n",
    "chemin = os.getcwd()+\"/train/vegetation/1.jpg\"\n",
    "img = image.load_img(chemin)\n",
    "# plt.imshow(img)"
   ]
  },
  {
   "cell_type": "code",
   "execution_count": 10,
   "id": "864fe889",
   "metadata": {},
   "outputs": [
    {
     "data": {
      "text/plain": [
       "(10644, 10644, 3)"
      ]
     },
     "execution_count": 10,
     "metadata": {},
     "output_type": "execute_result"
    }
   ],
   "source": [
    "cv2.imread(chemin).shape"
   ]
  },
  {
   "cell_type": "code",
   "execution_count": 11,
   "id": "b1249e92",
   "metadata": {},
   "outputs": [],
   "source": [
    "train = ImageDataGenerator(rescale = 1/255)\n",
    "validation = ImageDataGenerator(rescale = 1/255)\n"
   ]
  },
  {
   "cell_type": "code",
   "execution_count": 12,
   "id": "abb9677b",
   "metadata": {},
   "outputs": [
    {
     "name": "stdout",
     "output_type": "stream",
     "text": [
      "Found 15 images belonging to 2 classes.\n",
      "Found 0 images belonging to 2 classes.\n"
     ]
    }
   ],
   "source": [
    "train_dataset = train.flow_from_directory('train/',\n",
    "                                         target_size = (200,200),\n",
    "                                         batch_size = 3,\n",
    "                                         class_mode = 'binary')\n",
    "validation_dataset = train.flow_from_directory('validation/',\n",
    "                                         target_size = (200,200),\n",
    "                                         batch_size = 3,\n",
    "                                         class_mode = 'binary')"
   ]
  },
  {
   "cell_type": "code",
   "execution_count": 13,
   "id": "7fab608b",
   "metadata": {},
   "outputs": [
    {
     "data": {
      "text/plain": [
       "{'vegetation': 0, 'withoutVegetation': 1}"
      ]
     },
     "execution_count": 13,
     "metadata": {},
     "output_type": "execute_result"
    }
   ],
   "source": [
    "train_dataset.class_indices"
   ]
  },
  {
   "cell_type": "code",
   "execution_count": 14,
   "id": "25e0c476",
   "metadata": {},
   "outputs": [
    {
     "name": "stdout",
     "output_type": "stream",
     "text": [
      "okay\n"
     ]
    }
   ],
   "source": [
    "model = tf.keras.models.Sequential([\n",
    "    tf.keras.layers.Conv2D(16,(3,3),activation = 'relu',input_shape=(200,200,3)),\n",
    "    tf.keras.layers.MaxPool2D(2,2),\n",
    "    tf.keras.layers.Conv2D(32,(3,3),activation = 'relu'),\n",
    "    tf.keras.layers.MaxPool2D(2,2),\n",
    "    tf.keras.layers.Conv2D(64,(3,3),activation = 'relu'),\n",
    "    tf.keras.layers.MaxPool2D(2,2),\n",
    "    tf.keras.layers.Flatten(),\n",
    "    tf.keras.layers.Dense(512,activation='relu'),\n",
    "    tf.keras.layers.Dense(1,activation='sigmoid')\n",
    "   \n",
    "])\n",
    "print('okay')\n"
   ]
  },
  {
   "cell_type": "code",
   "execution_count": 15,
   "id": "a6e47b6d",
   "metadata": {},
   "outputs": [],
   "source": [
    "model.compile(loss='binary_crossentropy',\n",
    "             optimizer = tf.keras.optimizers.RMSprop(learning_rate=0.001),\n",
    "             metrics=['accuracy'])"
   ]
  },
  {
   "cell_type": "code",
   "execution_count": 16,
   "id": "2ee7c5f7",
   "metadata": {},
   "outputs": [
    {
     "name": "stdout",
     "output_type": "stream",
     "text": [
      "Epoch 1/10\n",
      "3/3 [==============================] - 6s 1s/step - loss: 19.5698 - accuracy: 0.5556\n"
     ]
    },
    {
     "name": "stderr",
     "output_type": "stream",
     "text": [
      "C:\\Users\\jujus\\anaconda3\\envs\\tens\\lib\\site-packages\\PIL\\Image.py:2918: DecompressionBombWarning: Image size (111264300 pixels) exceeds limit of 89478485 pixels, could be decompression bomb DOS attack.\n",
      "  warnings.warn(\n"
     ]
    },
    {
     "name": "stdout",
     "output_type": "stream",
     "text": [
      "Epoch 2/10\n",
      "3/3 [==============================] - 6s 2s/step - loss: 1.3909 - accuracy: 0.4444\n",
      "Epoch 3/10\n",
      "3/3 [==============================] - 5s 1s/step - loss: 1.3695 - accuracy: 0.4444\n",
      "Epoch 4/10\n",
      "3/3 [==============================] - 6s 2s/step - loss: 0.3826 - accuracy: 0.8889\n",
      "Epoch 5/10\n",
      "3/3 [==============================] - 5s 1s/step - loss: 1.4542 - accuracy: 0.5556\n",
      "Epoch 6/10\n",
      "3/3 [==============================] - 2s 626ms/step - loss: 0.4451 - accuracy: 0.7778\n",
      "Epoch 7/10\n",
      "3/3 [==============================] - 3s 460ms/step - loss: 0.2790 - accuracy: 0.8889\n",
      "Epoch 8/10\n",
      "3/3 [==============================] - 4s 1s/step - loss: 0.9263 - accuracy: 0.6667\n",
      "Epoch 9/10\n",
      "3/3 [==============================] - 4s 2s/step - loss: 0.2782 - accuracy: 0.8889\n",
      "Epoch 10/10\n",
      "3/3 [==============================] - 4s 918ms/step - loss: 0.2300 - accuracy: 1.0000\n"
     ]
    }
   ],
   "source": [
    "model_fit = model.fit(train_dataset, \n",
    "                      steps_per_epoch = 3,\n",
    "                      epochs=10,\n",
    "                     validation_data=validation_dataset)"
   ]
  },
  {
   "cell_type": "code",
   "execution_count": 21,
   "id": "651b6cbf",
   "metadata": {},
   "outputs": [
    {
     "name": "stdout",
     "output_type": "stream",
     "text": [
      "Pour l'image numéro 1.jpg\n",
      "Zone avec de la végétation\n",
      "\n",
      "Pour l'image numéro 10.jpg\n",
      "Zone sans végétation\n",
      "\n",
      "Pour l'image numéro 11.jpg\n",
      "Zone sans végétation\n",
      "\n",
      "Pour l'image numéro 12.jpg\n",
      "Zone sans végétation\n",
      "\n",
      "Pour l'image numéro 13.jpg\n",
      "Zone sans végétation\n",
      "\n",
      "Pour l'image numéro 14.jpg\n",
      "Zone sans végétation\n",
      "\n",
      "Pour l'image numéro 15.jpg\n",
      "Zone sans végétation\n",
      "\n",
      "Pour l'image numéro 2.jpg\n",
      "Zone avec de la végétation\n",
      "\n",
      "Pour l'image numéro 3.jpg\n",
      "Zone avec de la végétation\n",
      "\n",
      "Pour l'image numéro 4.jpg\n",
      "Zone avec de la végétation\n",
      "\n",
      "Pour l'image numéro 5.jpg\n",
      "Zone avec de la végétation\n",
      "\n",
      "Pour l'image numéro 6.jpg\n",
      "Zone avec de la végétation\n",
      "\n",
      "Pour l'image numéro 7.jpg\n",
      "Zone avec de la végétation\n",
      "\n",
      "Pour l'image numéro 8.jpg\n",
      "Zone sans végétation\n",
      "\n",
      "Pour l'image numéro 9.jpg\n",
      "Zone sans végétation\n",
      "\n"
     ]
    }
   ],
   "source": [
    "chemin_rep = os.getcwd()+'/test'\n",
    "\n",
    "for i in os.listdir(chemin_rep) :\n",
    "    img = image.load_img(chemin_rep+'/'+i,target_size=(200,200,3))\n",
    "    #plt.imshow(img)\n",
    "    #plt.show() Pour des soucis de performance lié à mon ordinateur je mets en commentaire ces deux lignes pour ne pas \n",
    "    # print les images qui font arrêter le noyau \n",
    "    print(\"Pour l'image numéro \"+i)\n",
    "    X = image.img_to_array(img)\n",
    "    X = np.expand_dims(X,axis=0) # ajoute une dimension \n",
    "    images = np.vstack([X])\n",
    "    val = model.predict(images)\n",
    "    if val == 0 :\n",
    "        print(\"Zone avec de la végétation\")\n",
    "        print(\"\")\n",
    "    else :\n",
    "        print(\"Zone sans végétation\")\n",
    "        print(\"\")"
   ]
  },
  {
   "cell_type": "code",
   "execution_count": null,
   "id": "321f6231",
   "metadata": {},
   "outputs": [],
   "source": []
  }
 ],
 "metadata": {
  "kernelspec": {
   "display_name": "Python 3 (ipykernel)",
   "language": "python",
   "name": "python3"
  },
  "language_info": {
   "codemirror_mode": {
    "name": "ipython",
    "version": 3
   },
   "file_extension": ".py",
   "mimetype": "text/x-python",
   "name": "python",
   "nbconvert_exporter": "python",
   "pygments_lexer": "ipython3",
   "version": "3.9.7"
  }
 },
 "nbformat": 4,
 "nbformat_minor": 5
}
